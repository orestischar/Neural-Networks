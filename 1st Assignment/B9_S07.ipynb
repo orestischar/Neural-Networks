{
  "nbformat": 4,
  "nbformat_minor": 0,
  "metadata": {
    "colab": {
      "name": "B9-S07",
      "provenance": [],
      "collapsed_sections": []
    },
    "kernelspec": {
      "name": "python3",
      "display_name": "Python 3"
    },
    "accelerator": "GPU"
  },
  "cells": [
    {
      "cell_type": "markdown",
      "metadata": {
        "id": "IYn85LzMJ6IG"
      },
      "source": [
        "# <b>Νευρωνικά Δίκτυα και Ευφυή Υπολογιστικά Συστήματα</b>\n",
        "\n",
        "1η Εργαστηριακή Άσκηση\n",
        "\n",
        "**Α) ΣΤΟΙΧΕΙΑ ΟΜΑΔΑΣ**\n",
        "\n",
        "Αριθμός Ομάδας: M.B.9\n",
        "\n",
        "Βλάχος Ιωάννης Α.Μ. 03115013<br>\n",
        "Κασουρίδης Στυλιανός Α.Μ. 03115172<br>\n",
        "Χαρδούβελης Γεώργιος-Ορέστης Α.Μ. 03115100<br>\n",
        "\n"
      ]
    },
    {
      "cell_type": "code",
      "metadata": {
        "id": "L78xzOlLJmPf",
        "outputId": "9542576b-de3d-40f1-f84c-a45f96caf795",
        "colab": {
          "base_uri": "https://localhost:8080/",
          "height": 204
        }
      },
      "source": [
        "!wget http://archive.ics.uci.edu/ml/machine-learning-databases/ionosphere/ionosphere.data\n"
      ],
      "execution_count": null,
      "outputs": [
        {
          "output_type": "stream",
          "text": [
            "--2019-12-20 10:50:03--  http://archive.ics.uci.edu/ml/machine-learning-databases/ionosphere/ionosphere.data\n",
            "Resolving archive.ics.uci.edu (archive.ics.uci.edu)... 128.195.10.252\n",
            "Connecting to archive.ics.uci.edu (archive.ics.uci.edu)|128.195.10.252|:80... connected.\n",
            "HTTP request sent, awaiting response... 200 OK\n",
            "Length: 76467 (75K) [application/x-httpd-php]\n",
            "Saving to: ‘ionosphere.data’\n",
            "\n",
            "\rionosphere.data       0%[                    ]       0  --.-KB/s               \rionosphere.data      67%[============>       ]  50.04K   182KB/s               \rionosphere.data     100%[===================>]  74.67K   271KB/s    in 0.3s    \n",
            "\n",
            "2019-12-20 10:50:04 (271 KB/s) - ‘ionosphere.data’ saved [76467/76467]\n",
            "\n"
          ],
          "name": "stdout"
        }
      ]
    },
    {
      "cell_type": "markdown",
      "metadata": {
        "id": "aTFMdWn3LutU"
      },
      "source": [
        "**Β) ΕΙΣΑΓΩΓΗ ΤΟΥ DATASET**\n",
        "\n",
        "1. Το dataset αναφέρεται σε radar data που αφορούν την ιονόσφαιρα.\n",
        "\n",
        "2. Συγκεκριμένα, είναι radar data που περιέχει έναν phased array από 16 κεραίες υψηλής συχνότητας. Τα σήματα που παίρνουμε είναι processed από μία autocorrelation function που παίρνει ως arguments το χρόνο και τον αριθμό παλμών. Τα \"καλά\" (good) radar μας δίνουν πληροφορίες για κάποια δομή για την ιονόσφαιρα, ενώ τα \"κακά\" (bad) όχι. Κάθε sample έχει 34 attributes, τα οποία περιέχουν τα 17 δεδομένα (complex numbers) και 1 flag που δείχνει αν το radar είναι good ή bad. \\\\\n",
        "Τα χαρακτηριστικά μας είναι διατεταγμένα -ανα δύο- εφόσον κάθε δυάδα ορίζει έναν μιγαδικό αριθμό.\n",
        "\n",
        "3. Δεν υπάρχουν επικεφαλίδες ούτε αφαίρεση γραμμών.\n",
        "\n",
        "4. Οι ετικέτες των κλάσεων ορίζονται ως το \"35ο χαρακτηριστικό\" στην ανάλυση του dataset. Συνεπώς βρίσκονται στην 35η στήλη και παίρνουν τιμές από το σύνολο {'g', 'b'}, που αντιστοιχούν στον χαρακτηρισμό του κάθε radar ως good ή bad. \n",
        "\n",
        "5. Όπως φαίνεται παρακάτω, δεν χρειάστηκε κάποια επεξεργασία στα αρχεία, απλως διαβάστηκαν χρησιμοποιώντας την βιβλιοθήκη panda.\n",
        "\n",
        "6. Δεν υπάρχουν απουσιάζουσες τιμές."
      ]
    },
    {
      "cell_type": "code",
      "metadata": {
        "id": "xrrdSnLsLpU3",
        "outputId": "3a20db74-5259-48ad-faca-5152e78a5c8b",
        "colab": {
          "base_uri": "https://localhost:8080/",
          "height": 85
        }
      },
      "source": [
        "import numpy as np\n",
        "import pandas\n",
        "df = pandas.read_csv('ionosphere.data',header=None)\n",
        "small = df.to_numpy()\n",
        "countg = 0\n",
        "for i in small:\n",
        "  if (i[-1] == 'g'):\n",
        "    countg+=1\n",
        "countb = 351-countg\n",
        "\n",
        "print('7.','Good radars are', countg, 'and their percentage is', countg/351)\n",
        "print('Bad radars are', countb, 'and their percentage is', countb/351)\n",
        "print()\n",
        "\n",
        "#proof that small dataset is unbalanced\n",
        "if (max(countg,countb)/min(countg,countb) > 1.5):\n",
        "  print('Unbalanced')"
      ],
      "execution_count": null,
      "outputs": [
        {
          "output_type": "stream",
          "text": [
            "7. Good radars are 225 and their percentage is 0.6410256410256411\n",
            "Bad radars are 126 and their percentage is 0.358974358974359\n",
            "\n",
            "Unbalanced\n"
          ],
          "name": "stdout"
        }
      ]
    },
    {
      "cell_type": "markdown",
      "metadata": {
        "id": "aJgWfb1CyfuK"
      },
      "source": [
        "7. Όπως είδαμε και παραπάνω, έχουμε μόλις δύο κλάσεις, g και b. Έχουμε περίπου 64% good δείγματα και 36% bad. Συνεπώς, επειδή η κλάση 'good' είναι μεγαλύτερη από 1,5 φορές η bad, έχουμε μη ισορροπημένο dataset\n",
        "\n",
        "8. Διαχωρισμός σε train και test sets.\n",
        "Στο small θα διαχωριστούν σε ποσοστό 80% - 20% (θεωρείται καλό ποσοστό)."
      ]
    },
    {
      "cell_type": "code",
      "metadata": {
        "id": "zxj6hjieTJTA"
      },
      "source": [
        "from sklearn.model_selection import train_test_split\n",
        "X_train, X_test, y_train, y_test = train_test_split(small[:,:-1], small[:,-1], test_size = 0.2,\\\n",
        "                                                        random_state = 67)"
      ],
      "execution_count": null,
      "outputs": []
    },
    {
      "cell_type": "markdown",
      "metadata": {
        "id": "Vfs7O9MtWVZT"
      },
      "source": [
        "**Γ. BASELINE CLASSIFICATION**"
      ]
    },
    {
      "cell_type": "code",
      "metadata": {
        "id": "zppHHwDBeKoH"
      },
      "source": [
        "f1micros = []\n",
        "f1macros = []\n",
        "cm = []\n",
        "acc_c=[]"
      ],
      "execution_count": null,
      "outputs": []
    },
    {
      "cell_type": "markdown",
      "metadata": {
        "id": "A-j2dWzRzQ8D"
      },
      "source": [
        "1. Παρακάτω εκπαιδεύσαμε τα train δεδομένα μας με απλή αρχικοποήση των παραμέτρων. Φαίνονται τόσο οι confusion matrixes καθώς και οι μετρικές f1-micro και f1-macro, αλλά και άλλες μετρικές που θα χρειαστούν παρκάτω. "
      ]
    },
    {
      "cell_type": "code",
      "metadata": {
        "id": "B8gaCUbyW1YY",
        "outputId": "6416b0e6-5b2d-49e5-c51d-44c10c503bce",
        "colab": {
          "base_uri": "https://localhost:8080/",
          "height": 207
        }
      },
      "source": [
        "import time\n",
        "from sklearn.dummy import DummyClassifier\n",
        "from sklearn.metrics import confusion_matrix, f1_score\n",
        "from sklearn.metrics import precision_score, recall_score, accuracy_score\n",
        "\n",
        "\n",
        "times_fit=[0,0,0,0]\n",
        "times_pred=[0,0,0,0]\n",
        "dummy_clf = DummyClassifier(strategy=\"most_frequent\")\n",
        "times_fit[0] = -time.time()\n",
        "dummy_clf.fit(X_train, y_train)\n",
        "times_fit[0] += time.time()\n",
        "print('The confusion matrix of the test set is:')\n",
        "times_pred[0]=-time.time()\n",
        "predvec = dummy_clf.predict(X_test)\n",
        "times_pred[0] += time.time()\n",
        "cm.append(confusion_matrix(y_test,predvec))\n",
        "print(cm[0])\n",
        "print(\"Fit time is \", times_fit[0])\n",
        "print(\"Predict time is \", times_pred[0])\n",
        "f1micros.append(f1_score(y_test,predvec,average='micro'))\n",
        "f1macros.append(f1_score(y_test,predvec,average='macro'))\n",
        "print(\"F1 micro is \", f1micros[0])\n",
        "print(\"F1 macro\", f1macros[0])\n",
        "'''\n",
        "print(\"Precision score is \", precision_score(y_test, predvec, average='micro'))\n",
        "print(\"Recall  score is \", recall_score(y_test, predvec, average='micro'))\n",
        "'''\n",
        "d_acc = accuracy_score(y_test, predvec)\n",
        "print(\"Accuracy score is \", d_acc)"
      ],
      "execution_count": null,
      "outputs": [
        {
          "output_type": "stream",
          "text": [
            "The confusion matrix of the test set is:\n",
            "[[ 0 20]\n",
            " [ 0 51]]\n",
            "Fit time is  0.0025224685668945312\n",
            "Predict time is  0.0002257823944091797\n",
            "F1 micro is  0.7183098591549296\n",
            "F1 macro 0.4180327868852459\n",
            "Accuracy score is  0.7183098591549296\n"
          ],
          "name": "stdout"
        },
        {
          "output_type": "stream",
          "text": [
            "/usr/local/lib/python3.6/dist-packages/sklearn/metrics/classification.py:1437: UndefinedMetricWarning: F-score is ill-defined and being set to 0.0 in labels with no predicted samples.\n",
            "  'precision', 'predicted', average, warn_for)\n"
          ],
          "name": "stderr"
        }
      ]
    },
    {
      "cell_type": "code",
      "metadata": {
        "id": "ZXWhS0gBaq7R",
        "outputId": "a72c7a9b-7e6d-422f-fcf9-10eb8d283134",
        "colab": {
          "base_uri": "https://localhost:8080/",
          "height": 153
        }
      },
      "source": [
        "from sklearn.neighbors import KNeighborsClassifier as KNN\n",
        "\n",
        "knn_clf = KNN(n_neighbors=3)\n",
        "time0 = -time.time()\n",
        "knn_clf.fit(X_train, y_train)\n",
        "time0 += time.time()\n",
        "print('The confusion matrix of the test set is:')\n",
        "time1 = -time.time()\n",
        "predvec = knn_clf.predict(X_test)\n",
        "time1 += time.time()\n",
        "cm.append(confusion_matrix(y_test,predvec))\n",
        "print(cm[1])\n",
        "print(\"Fit time is \", time0)\n",
        "print(\"Predict time is \", time1)\n",
        "f1micros.append(f1_score(y_test,predvec,average='micro'))\n",
        "f1macros.append(f1_score(y_test,predvec,average='macro'))\n",
        "print(\"F1 micro is \", f1micros[1])\n",
        "print(\"F1 macro\", f1macros[1])\n",
        "'''\n",
        "print(\"Precision score is \", precision_score(y_test, predvec, average='micro'))\n",
        "print(\"Recall  score is \", recall_score(y_test, predvec, average='micro'))\n",
        "'''\n",
        "knn_acc = accuracy_score(y_test, predvec)\n",
        "print(\"Accuracy score is \", knn_acc)"
      ],
      "execution_count": null,
      "outputs": [
        {
          "output_type": "stream",
          "text": [
            "The confusion matrix of the test set is:\n",
            "[[12  8]\n",
            " [ 1 50]]\n",
            "Fit time is  0.006478786468505859\n",
            "Predict time is  0.005850076675415039\n",
            "F1 micro is  0.8732394366197183\n",
            "F1 macro 0.8223519599666389\n",
            "Accuracy score is  0.8732394366197183\n"
          ],
          "name": "stdout"
        }
      ]
    },
    {
      "cell_type": "markdown",
      "metadata": {
        "id": "uSfChWEJ03-W"
      },
      "source": [
        "2. Τυπώνουμε τα ζητούμενα barplots με τις τιμές f1-micro και f1-macro των dummy και knn ταξινομητών, όπως υπολογίστηκαν παραπάνω. "
      ]
    },
    {
      "cell_type": "code",
      "metadata": {
        "id": "D-Q_sWshcpTE",
        "outputId": "0ad54543-c871-42bf-ac58-b3eeafc8dd8e",
        "colab": {
          "base_uri": "https://localhost:8080/",
          "height": 221
        }
      },
      "source": [
        "l = ['dummy', 'knn']\n",
        "for i, mat in enumerate(cm):\n",
        "  print(l[i])\n",
        "  print(mat)\n",
        "  true_pos = mat[0][0]\n",
        "  false_pos = mat[1][0]\n",
        "  false_neg = mat[0][1]\n",
        "\n",
        "  precision = true_pos / (true_pos + false_pos)\n",
        "  recall = true_pos / (true_pos + false_neg)\n",
        "  accuracy = np.sum(np.diag(mat) / np.sum(mat))\n",
        "  print(\"Precision is \", precision, \"Recall is \", recall, \"Accuracy is\", accuracy)\n",
        "  print()\n",
        "  "
      ],
      "execution_count": null,
      "outputs": [
        {
          "output_type": "stream",
          "text": [
            "dummy\n",
            "[[ 0 20]\n",
            " [ 0 51]]\n",
            "Precision is  nan Recall is  0.0 Accuracy is 0.7183098591549296\n",
            "\n",
            "knn\n",
            "[[12  8]\n",
            " [ 1 50]]\n",
            "Precision is  0.9230769230769231 Recall is  0.6 Accuracy is 0.8732394366197183\n",
            "\n"
          ],
          "name": "stdout"
        },
        {
          "output_type": "stream",
          "text": [
            "/usr/local/lib/python3.6/dist-packages/ipykernel_launcher.py:9: RuntimeWarning: invalid value encountered in long_scalars\n",
            "  if __name__ == '__main__':\n"
          ],
          "name": "stderr"
        }
      ]
    },
    {
      "cell_type": "code",
      "metadata": {
        "id": "iLQL9cQLbt5R",
        "outputId": "57bcf351-cee6-4e37-ed2e-47656506d023",
        "colab": {
          "base_uri": "https://localhost:8080/",
          "height": 286
        }
      },
      "source": [
        "import matplotlib.pyplot as plt\n",
        "labels = ['Dummy','3NN']\n",
        "\n",
        "x = np.arange(len(labels))\n",
        "width = 0.35\n",
        "fig, ax = plt.subplots()\n",
        "rects1 = ax.bar(x - width/2, f1micros, width, label='Micro')\n",
        "rects2 = ax.bar(x + width/2, f1macros, width, label='Macro')\n",
        "ax.set_ylabel('Scores')\n",
        "ax.set_ylim(top=1)\n",
        "ax.set_xticks(x)\n",
        "ax.set_xticklabels(labels)"
      ],
      "execution_count": null,
      "outputs": [
        {
          "output_type": "execute_result",
          "data": {
            "text/plain": [
              "[Text(0, 0, 'Dummy'), Text(0, 0, '3NN')]"
            ]
          },
          "metadata": {
            "tags": []
          },
          "execution_count": 8
        },
        {
          "output_type": "display_data",
          "data": {
            "image/png": "[encoded data removed]",
            "text/plain": [
              "<Figure size 432x288 with 1 Axes>"
            ]
          },
          "metadata": {
            "tags": []
          }
        }
      ]
    },
    {
      "cell_type": "markdown",
      "metadata": {
        "id": "-7Jpe9SZ1Etu"
      },
      "source": [
        "3. Τα score του dummy ταξινομητή είναι σχετικά υψηλά δεδομένου ότι το dataset μας είναι unbalanced. Παρόλα αυτά, από το confusion matrix και το recall φαίνεται πως κάνει συνέχεια την ίδια πρόβλεψη και τελικώς δεν είναι αποδοτικός. Ακόμη το precision δεν ορίζεται μιας και, λόγω των μηδενικών στον confusion matrix, γίνεται διαίρεση με μηδέν. Τέλος, η τιμή f1-macro βγαίνει χαμηλή αφού υπολογίζεται η μετρική ξεχωριστά για κάθε κλάση και υπολογίζει τον μέσο όρο. Συνεπώς, εφόσον ο dummy μεγιστοποιεί την απόδοση της μίας τάξης, η άλλη βγάζει χαμηλά αποτελέσματα και προκύπτει λιγότερο υψηλή τιμή. \\\\\n",
        "Αντίθετα, στον knn ταξινομητή έχουμε πολύ καλύτερα αποτελέσματα. Προφανώς δεν φτάνουμε σε πολύ υψηλές τιμές λόγω του μικρού μεγέθους του dataset μας. Συγκεκριμένα, το precision που δίνεται από το ποσοστό των σωστά ταξινομημένων good radar από τα συνολικά ταξινομημένα good radar, είχε υψηλή τιμή, ενώ το recall που δίνεται από το ποσοστό των σωστά ταξινομημένων good radar από τα συνολικά labeled good radar τιμή που πλησιάζει το ποσοστό δειγμάτων της κλάσης good.\\\\\n",
        "Σε γενικές γραμμές, οι f1 τιμές που συνοψίζουν την απόδοση των ταξινομητών μας φαίνονται στο παραπάνω διάγραμμα, όπου στο knn έχουμε σαφώς καλύτερα αποτελέσματα. Παρατηρούμε ακόμη πως οι μετρικές f1-micro εμφανίζονται καλύτερες από τις f1-macro."
      ]
    },
    {
      "cell_type": "markdown",
      "metadata": {
        "id": "mJKMyQMEk0bq"
      },
      "source": [
        "**Δ) ΒΕΛΤΙΣΤΟΠΟΙΗΣΗ ΤΑΞΙΝΟΜΗΤΩΝ**\n",
        "\n",
        "1. \n",
        "\n",
        "Εδώ βελτιστοποιούμε την απόδοση των ταξινομητών, τόσο σε επίπεδο προεπεξεργασίας όσο και με την εύρεση βέλτιστων παραμέτρων. \\\\\n",
        "Σε επίπεδο προεπεξεργασίας δεδομένων, εξετάστηκαν ορισμένες τροποποιήσεις και τεχνικές πάνω στο dataset πριν γίνει η εκπαίδευση που είναι γνωστές για την βελτίωση των αποτελεσμάτων. Συγκεκριμένα, εξετάστηκαν οι μέθοδοι scaling όπου κανονικοποιεί τις τιμές των χαρακτηριστικών, PCA για μείωση της διαστατικότητας και με κατώφλι διασποράς, απορρίπτωντας χαρακτηριστικά με χαμηλή διασπορά.\n",
        "\n",
        "</br>\n",
        "\n",
        "Αρχικά υπολογίζουμε την διασπορά του κάθε χαρακτηριστικού, και τις τυπώνουμε, ώστε να επιλέξουμε κατάλληλες τιμές threshold για την διασπορά. Επιλέχθηκαν οι τιμές 0.1, 0.2 και 0.25. "
      ]
    },
    {
      "cell_type": "code",
      "metadata": {
        "id": "30wMLnAsGXxS",
        "outputId": "cb3610a5-4f0c-423f-9106-559bf43284ac",
        "colab": {
          "base_uri": "https://localhost:8080/",
          "height": 204
        }
      },
      "source": [
        "train_variance = X_train.var(axis=0)\n",
        "print(train_variance)"
      ],
      "execution_count": null,
      "outputs": [
        {
          "output_type": "stream",
          "text": [
            "[0.09566326530612278 0.0 0.26173599922042745 0.1997922956880091\n",
            " 0.2882116499303968 0.21760313175795426 0.24785915554953966\n",
            " 0.2809769874468559 0.27384636275993735 0.24428780856891683\n",
            " 0.33538883370903594 0.24369880912141717 0.38878754704721247\n",
            " 0.24128234774486593 0.4112847796355808 0.1992736299957535\n",
            " 0.39586995731463115 0.24724864745655115 0.3981184712437744\n",
            " 0.2770255457114681 0.37617816295474976 0.2679344721290703\n",
            " 0.3764324020540615 0.273362419439852 0.34272620486214134\n",
            " 0.25280844846311085 0.2779521512645397 0.30633480068071306\n",
            " 0.34994227005749884 0.2476293274606827 0.3381742950498454\n",
            " 0.26169819281232126 0.2860810359705091 0.21277278748112247]\n"
          ],
          "name": "stdout"
        }
      ]
    },
    {
      "cell_type": "markdown",
      "metadata": {
        "id": "36voqAtMBwws"
      },
      "source": [
        "Στην συνέχεια, ξεκινώντας από τον knn ταξινομητή, υλοποιήθηκε ένα gridsearch με σκοπό την εύρεση της βέλτιστης υπερπαραμέτρου k για κάθε συνδυασμό μεθόδων προεπεξεργασίας. Στο πρώτο από τα κελιά που ακολουθούν ενσωματώθηκε και η μέθοδος PCA ενώ στο δεύτερο χωρίς. Αυτό θα μπορούσε να γίνει και σε βήματα αλλά λόγω του μικρού μεγέθους του dataset έγινε exhaustive search. Επίσης τα παρακάτω κελιά υλοποιήθηκαν και με και χωρίς την χρήση scaler και επιλέχθηκε η μέθοδος που έβγαζε τα καλύτερα αποτελέσματα (με scaler).\n",
        "\n",
        "Για τον αριθμό των γειτόνων k επιλέγουμε περιττές τιμές από 1 εώς 19 ώστε να αποφευχθούν περιπτώσεις ισοπαλίας, ενώ για τις διαστάστασεις του PCA τιμές μέχρι και 20 διαστάσεις. Οι τιμές επιλέχθηκαν έτσι ώστε μετά την αφαίρεση χαρακτηριστικών από την μέθοδο v_threshold να μένουν πάντα περισσότερα ή ίσα από την επιλογή διαστάσεων στο PCA.\n",
        "\n",
        "Τέλος βρίσκουμε τα στοιχεία του πίνακα με την καλύτερη επίδοση και τους συνδυασμούς των παραμέτρουν που την επιφέρουν, τόσο σε σχέση με την μετρική f1-micro όσο και με την f1-macro.\n",
        "\n",
        "Για να υπολογίσουμε την επίδοση του μοντέλου με τον κάθε συνδυασμό παραμέτρων υλοποιούμε μέθοδο cross validation. Συγκεκριμένα, χωρίσσαμε το train dataset σε 10 ίσα μέρη και σε κάθε επανάληψη χρησιμοποιήσαμε το ένα από αυτά σαν test set ενώ τα υπόλοιπα ως train. Οι τελικές μετρικές υπολογίστηκαν ως ο μέσος όρος των μετρικών για κάθε συνδυασμό. "
      ]
    },
    {
      "cell_type": "code",
      "metadata": {
        "id": "_UtUgtgPk_q7",
        "outputId": "922fef08-19e6-4c5b-b261-11bd9f45027d",
        "colab": {
          "base_uri": "https://localhost:8080/",
          "height": 187
        }
      },
      "source": [
        "from sklearn.decomposition import PCA\n",
        "from sklearn.preprocessing import scale, normalize\n",
        "\n",
        "ks = range(1,20,2)\n",
        "pcas = range(2,20,4)\n",
        "vs = [0.0, 0.1, 0.2, 0.25]\n",
        "f1mics = np.zeros((len(vs), len(pcas), len(ks)))\n",
        "f1macs = np.zeros((len(vs), len(pcas), len(ks)))\n",
        "\n",
        "for c1,v in enumerate(vs):\n",
        "  indexes = []\n",
        "  for i in range(len(train_variance)):\n",
        "    if train_variance[i]<v:\n",
        "      indexes.append(i)\n",
        "  X_tr_new = X_train\n",
        "  for i in indexes[::-1]:\n",
        "    X_tr_new=np.delete(X_tr_new, i, 1)\n",
        "  for c2, p in enumerate(pcas):\n",
        "    #if(p<34-len(indexes)):\n",
        "    pca = PCA(n_components=p)\n",
        "    #else:\n",
        "      #pca = PCA(n_components= (34-len(indexes)))\n",
        "    X = scale(X_tr_new)\n",
        "    X = pca.fit_transform(X)\n",
        "    #X = scale(X)\n",
        "    for c3, i in enumerate(ks):\n",
        "      temp1=[]\n",
        "      temp2=[]\n",
        "      for cv in range(10):\n",
        "        X_val = X[28*cv:28*(cv+1)]\n",
        "        X_tr = np.concatenate((X[0:28*cv],X[28*(cv+1):]))\n",
        "        y_val = y_train[28*cv:28*(cv+1)]\n",
        "        y_tr = np.concatenate((y_train[0:28*cv],y_train[28*(cv+1):]))\n",
        "        knn_clf = KNN(n_neighbors=i)\n",
        "        knn_clf.fit(X_tr, y_tr)\n",
        "        predvec = knn_clf.predict(X_val)\n",
        "        temp1.append(f1_score(y_val,predvec,average='micro'))\n",
        "        temp2.append(f1_score(y_val,predvec,average='macro'))\n",
        "      f1mics[c1,c2,c3]=np.mean(np.array(temp1))\n",
        "      f1macs[c1,c2,c3]=np.mean(np.array(temp2))\n",
        "max_el = np.max(f1mics)\n",
        "print(\"best parameters based on f1_micro are:\")\n",
        "for i in range(f1mics.shape[0]):\n",
        "  for j in range(f1mics.shape[1]):\n",
        "    for k in range(f1mics.shape[2]):\n",
        "      if f1mics[i,j,k]==max_el:\n",
        "        print(\"Variance threshold=\",vs[i])\n",
        "        print(\"Number of pca components=\", pcas[j])\n",
        "        print(\"K neighbors in KNN classifier=\", ks[k])\n",
        "        print()\n",
        "max_el = np.max(f1macs)\n",
        "print(\"best parameters based on f1_macro are:\")\n",
        "for i in range(f1macs.shape[0]):\n",
        "  for j in range(f1macs.shape[1]):\n",
        "    for k in range(f1macs.shape[2]):\n",
        "      if f1macs[i,j,k]==max_el:\n",
        "        print(\"Variance threshold=\",vs[i])\n",
        "        print(\"Number of pca components=\", pcas[j])\n",
        "        print(\"K neighbors in KNN classifier=\", ks[k])\n",
        "        print()"
      ],
      "execution_count": null,
      "outputs": [
        {
          "output_type": "stream",
          "text": [
            "best parameters based on f1_micro are:\n",
            "Variance threshold= 0.25\n",
            "Number of pca components= 10\n",
            "K neighbors in KNN classifier= 1\n",
            "\n",
            "best parameters based on f1_macro are:\n",
            "Variance threshold= 0.2\n",
            "Number of pca components= 10\n",
            "K neighbors in KNN classifier= 1\n",
            "\n"
          ],
          "name": "stdout"
        }
      ]
    },
    {
      "cell_type": "code",
      "metadata": {
        "id": "8NMoLCserSIu",
        "outputId": "7f09fabd-6878-4be3-c6eb-44efbd8f4955",
        "colab": {
          "base_uri": "https://localhost:8080/",
          "height": 663
        }
      },
      "source": [
        "#without PCA\n",
        "ks = range(1,20,2)\n",
        "vs = [0.0, 0.1, 0.2, 0.25]\n",
        "f1mics = np.zeros((len(vs), len(ks)))\n",
        "f1macs = np.zeros((len(vs), len(ks)))\n",
        "\n",
        "for c1,v in enumerate(vs):\n",
        "  indexes = []\n",
        "  for i in range(len(train_variance)):\n",
        "    if train_variance[i]<v:\n",
        "      indexes.append(i)\n",
        "  X = scale(X_train) #we checked and it's sooo much better\n",
        "  for c3, i in enumerate(ks):\n",
        "    temp1=[]\n",
        "    temp2=[]\n",
        "    for cv in range(10):\n",
        "      X_val = X[28*cv:28*(cv+1)]\n",
        "      X_tr = np.concatenate((X[0:28*cv],X[28*(cv+1):]))\n",
        "      y_val = y_train[28*cv:28*(cv+1)]\n",
        "      y_tr = np.concatenate((y_train[0:28*cv],y_train[28*(cv+1):]))\n",
        "      knn_clf = KNN(n_neighbors=i)\n",
        "      knn_clf.fit(X_tr, y_tr)\n",
        "      predvec = knn_clf.predict(X_val)\n",
        "      temp1.append(f1_score(y_val,predvec,average='micro'))\n",
        "      temp2.append(f1_score(y_val,predvec,average='macro'))\n",
        "    f1mics[c1,c3]=np.mean(np.array(temp1))\n",
        "    f1macs[c1,c3]=np.mean(np.array(temp2))\n",
        "max_el = np.max(f1mics)\n",
        "print(\"best parameters based on f1_micro are:\")\n",
        "for i in range(f1mics.shape[0]):\n",
        "  for k in range(f1mics.shape[1]):\n",
        "    if f1mics[i,k]==max_el:\n",
        "      print(\"Variance threshold=\",vs[i])\n",
        "      print(\"K neighbors in KNN classifier=\", ks[k])\n",
        "      print()\n",
        "max_el = np.max(f1macs)\n",
        "print(\"best parameters based on f1_macro are:\")\n",
        "for i in range(f1macs.shape[0]):\n",
        "  for k in range(f1macs.shape[1]):\n",
        "    if f1macs[i,k]==max_el:\n",
        "      print(\"Variance threshold=\",vs[i])\n",
        "      print(\"K neighbors in KNN classifier=\", ks[k])\n",
        "      print()\n"
      ],
      "execution_count": null,
      "outputs": [
        {
          "output_type": "stream",
          "text": [
            "best parameters based on f1_micro are:\n",
            "Variance threshold= 0.0\n",
            "K neighbors in KNN classifier= 1\n",
            "\n",
            "Variance threshold= 0.0\n",
            "K neighbors in KNN classifier= 3\n",
            "\n",
            "Variance threshold= 0.1\n",
            "K neighbors in KNN classifier= 1\n",
            "\n",
            "Variance threshold= 0.1\n",
            "K neighbors in KNN classifier= 3\n",
            "\n",
            "Variance threshold= 0.2\n",
            "K neighbors in KNN classifier= 1\n",
            "\n",
            "Variance threshold= 0.2\n",
            "K neighbors in KNN classifier= 3\n",
            "\n",
            "Variance threshold= 0.25\n",
            "K neighbors in KNN classifier= 1\n",
            "\n",
            "Variance threshold= 0.25\n",
            "K neighbors in KNN classifier= 3\n",
            "\n",
            "best parameters based on f1_macro are:\n",
            "Variance threshold= 0.0\n",
            "K neighbors in KNN classifier= 1\n",
            "\n",
            "Variance threshold= 0.1\n",
            "K neighbors in KNN classifier= 1\n",
            "\n",
            "Variance threshold= 0.2\n",
            "K neighbors in KNN classifier= 1\n",
            "\n",
            "Variance threshold= 0.25\n",
            "K neighbors in KNN classifier= 1\n",
            "\n"
          ],
          "name": "stdout"
        }
      ]
    },
    {
      "cell_type": "markdown",
      "metadata": {
        "id": "IGn_QOauEIAE"
      },
      "source": [
        "Βλέπουμε πως έχουμε βέλτιστα αποτελέσματα για k=1.  Αυτό δεν μας κάνει τόση εντύπωση δεδομένου του dataset, καθώς πρόκειται για ένα 2-class problem στο οποίο οι 2 κλάσεις είναι καλά ομαδοποιημένες. Γενικά, με μεγαλύτερο αριθμό γειτόνων φτιάχνεται ταξινομητής με χαμηλότερη διακύμανση και υψηλότερη απόκλιση, ενώ με λίγότερους (όπως στην περίπτωση μας) έχουμε υψηλή διακύμανση και χαμηλότερη απόκλιση, και κατά συνέπεια ο ταξινομητής αγνοεί σε μεγάλο ποσοστό την συνολική κατανομή και δίνει βαρύτητα στην απόφαση με βάση μόνο το κοντινότερο βήμα (δηλαδή το decision boundary θα περνάει από τις μεσοκαθέτουςτων γειτονικών δειγμάτων διαφορετικής τάξης). \n",
        "\n",
        "Ακόμη, χωρίς το PCA, παρατηρούμε πως το variance threshold δεν είχε επιρροή στην επίδοση. \n",
        "</br>\n",
        "</br>\n",
        "</br>\n",
        "Παρακάτω κάναμε παρόμοια διαδικασία για τον dummy classifier. Εφόσον επιλέγει αυθαίρετη ταξινόμηση για κάθε δείγμα, δεν υλοποιήθηκε κάποια προεπεξεργασία δεδομένων. Ελέγχθηκε απλώς η βέλτιστη στρατηγική του ταξινομητή για τις μετρικές f1-micro και f1-macro."
      ]
    },
    {
      "cell_type": "code",
      "metadata": {
        "id": "HfFp1cFv9a5n",
        "outputId": "1772e32b-1d74-4e5b-bc96-c21d929c650c",
        "colab": {
          "base_uri": "https://localhost:8080/",
          "height": 105
        }
      },
      "source": [
        "f1 =[]\n",
        "f2=[]\n",
        "\n",
        "arr = [\"most_frequent\", \"stratified\", \"prior\", \"uniform\"]\n",
        "for i in arr:\n",
        "  temp1=[]\n",
        "  temp2=[]\n",
        "  for cv in range(10):\n",
        "    X_val = X[28*cv:28*(cv+1)]\n",
        "    X_tr = np.concatenate((X[0:28*cv],X[28*(cv+1):]))\n",
        "    y_val = y_train[28*cv:28*(cv+1)]\n",
        "    y_tr = np.concatenate((y_train[0:28*cv],y_train[28*(cv+1):]))\n",
        "    dummy_clf = DummyClassifier(strategy=i)\n",
        "    dummy_clf.fit(X_train, y_train)\n",
        "    predvec = dummy_clf.predict(X_val)\n",
        "    temp1.append(f1_score(y_val,predvec,average='micro'))\n",
        "    temp2.append(f1_score(y_val,predvec,average='macro'))    \n",
        "  f1.append(np.mean(np.array(temp1)))\n",
        "  f2.append(np.mean(np.array(temp2)))\n",
        "'''\n",
        "print(f1)\n",
        "print(f2)\n",
        "'''\n",
        "print(\"Considering f1 -> \", arr[np.argmax(f1)])\n",
        "print(\"Considering f2 -> \", arr[np.argmax(f2)])"
      ],
      "execution_count": null,
      "outputs": [
        {
          "output_type": "stream",
          "text": [
            "Considering f1 ->  most_frequent\n",
            "Considering f2 ->  stratified\n"
          ],
          "name": "stdout"
        },
        {
          "output_type": "stream",
          "text": [
            "/usr/local/lib/python3.6/dist-packages/sklearn/metrics/classification.py:1437: UndefinedMetricWarning: F-score is ill-defined and being set to 0.0 in labels with no predicted samples.\n",
            "  'precision', 'predicted', average, warn_for)\n"
          ],
          "name": "stderr"
        }
      ]
    },
    {
      "cell_type": "markdown",
      "metadata": {
        "id": "U3eWfkDaJy6f"
      },
      "source": [
        "Με βάση τα παραπάνω αποτελέσματα, υλοποιούμε πλέον τους ταξινομητές με τις βέλτιστες παραμέτρους. Για τον knn, κρατήσαμε τις υλοποιήσεις και με PCA και χωρίς. Όπως περιμέναμε, με PCA έχουμε μείωση της επίδοσης του ταξινομητή μιας και είχαμε λίγα χαρακτηριστικά αλλά και δείγματα, όμως για μεγαλύτερα μεγέθη ίσως θα ήταν αναγκαίος. Ταυτόχρονα τυπώνουμε τις μετρικές επίδοσης για κάθε ταξινομητή."
      ]
    },
    {
      "cell_type": "code",
      "metadata": {
        "id": "br0E3oU1TWgn",
        "outputId": "87d18e68-3b86-4cdd-cc5d-6b1bf97b215f",
        "colab": {
          "base_uri": "https://localhost:8080/",
          "height": 153
        }
      },
      "source": [
        "knn_clf = KNN(n_neighbors=1)\n",
        "f1m=[]\n",
        "f1M=[]\n",
        "train_variance = X_train.var(axis=0)\n",
        "#train_variance = np.concatenate((X_train, X_test), axis=0).var(axis=0)\n",
        "\n",
        "indexes = []\n",
        "for i in range(len(train_variance)):\n",
        "  if train_variance[i]<0.25:\n",
        "    indexes.append(i)\n",
        "X_tr_new = X_train\n",
        "X_te_new = X_test\n",
        "\n",
        "for i in indexes[::-1]:\n",
        "  X_tr_new=np.delete(X_tr_new, i, 1)\n",
        "  X_te_new=np.delete(X_te_new, i, 1)\n",
        "\n",
        "\n",
        "pca = PCA(n_components=10)\n",
        "#X = scale(X_tr_new)\n",
        "X = pca.fit_transform(X_tr_new)\n",
        "\n",
        "\n",
        "#X_te = scale(X_te_new)\n",
        "X_te = pca.fit_transform(X_te_new)\n",
        "\n",
        "times_fit[2] =-time.time()\n",
        "knn_clf.fit(X, y_train)\n",
        "times_fit[2] += time.time()\n",
        "print('The confusion matrix of the test set is:')\n",
        "times_pred[2] =-time.time()\n",
        "predvec = knn_clf.predict(X_te)\n",
        "times_pred[2] += time.time()\n",
        "print(confusion_matrix(y_test, predvec))\n",
        "cm_knn1 = confusion_matrix(y_test, predvec)\n",
        "print(\"Fit time is\", times_fit[2])\n",
        "print(\"Predict time is\", times_pred[2])\n",
        "\n",
        "print(\"F1 micro score is\", f1_score(y_test, predvec, average='micro'))\n",
        "f1m.append(f1_score(y_test, predvec, average='micro'))\n",
        "print(\"F1 macro score is\", f1_score(y_test, predvec, average='macro'))\n",
        "f1M.append(f1_score(y_test, predvec, average='macro'))\n",
        "'''\n",
        "print(\"Precision score is\", precision_score(y_test, predvec, average='micro'))\n",
        "print(\"Recall  score is\", recall_score(y_test, predvec, average='micro'))\n",
        "'''\n",
        "knn2_acc = accuracy_score(y_test, predvec)\n",
        "print(\"Accuracy score is\", knn2_acc)"
      ],
      "execution_count": null,
      "outputs": [
        {
          "output_type": "stream",
          "text": [
            "The confusion matrix of the test set is:\n",
            "[[10 10]\n",
            " [ 8 43]]\n",
            "Fit time is 0.0009701251983642578\n",
            "Predict time is 0.004235982894897461\n",
            "F1 micro score is 0.7464788732394367\n",
            "F1 macro score is 0.6766194331983806\n",
            "Accuracy score is 0.7464788732394366\n"
          ],
          "name": "stdout"
        }
      ]
    },
    {
      "cell_type": "code",
      "metadata": {
        "id": "4jk2SqWnv4WA",
        "outputId": "f15dabf3-7490-4391-fb73-283e38adce8c",
        "colab": {
          "base_uri": "https://localhost:8080/",
          "height": 153
        }
      },
      "source": [
        "#without PCA\n",
        "from sklearn.neighbors import KNeighborsClassifier as KNN\n",
        "\n",
        "knn_clf = KNN(n_neighbors=1)\n",
        "times_fit[3] = -time.time()\n",
        "X = normalize(X_train)\n",
        "X = scale(X_train)   \n",
        "knn_clf.fit(X, y_train)\n",
        "times_fit[3] += time.time()\n",
        "print('The confusion matrix of the test set is:')\n",
        "times_pred[3] = -time.time()\n",
        "X2 = scale(X_test)\n",
        "predvec = knn_clf.predict(X2)\n",
        "times_pred[3] += time.time()\n",
        "\n",
        "cm_knn2=confusion_matrix(y_test,predvec)\n",
        "print(cm_knn2)\n",
        "print(\"Fit time is \", time0)\n",
        "print(\"Predict time is \", time1)\n",
        "f1m.append(f1_score(y_test,predvec,average='micro'))\n",
        "f1M.append(f1_score(y_test,predvec,average='macro'))\n",
        "print(\"F1 micro is \", f1_score(y_test,predvec,average='micro'))\n",
        "print(\"F1 macro\", f1_score(y_test,predvec,average='macro'))\n",
        "'''\n",
        "print(\"Precision score is \", precision_score(y_test, predvec, average='micro'))\n",
        "print(\"Recall  score is \", recall_score(y_test, predvec, average='micro'))\n",
        "'''\n",
        "knn3_acc = accuracy_score(y_test, predvec)\n",
        "print(\"Accuracy score is \", knn3_acc)\n"
      ],
      "execution_count": null,
      "outputs": [
        {
          "output_type": "stream",
          "text": [
            "The confusion matrix of the test set is:\n",
            "[[16  4]\n",
            " [ 0 51]]\n",
            "Fit time is  0.006478786468505859\n",
            "Predict time is  0.005850076675415039\n",
            "F1 micro is  0.9436619718309859\n",
            "F1 macro 0.9255765199161425\n",
            "Accuracy score is  0.9436619718309859\n"
          ],
          "name": "stdout"
        }
      ]
    },
    {
      "cell_type": "markdown",
      "metadata": {
        "id": "KqbNc3Fo5nyf"
      },
      "source": [
        "Αντίστοιχα για τον dummy classifier με μέθοδο πρόβλεψης stratified εκτυπώνουμε τον πίνακα σύγχυσης, τους χρόνους εκπαίδευσης και πρόβλεψης όπως επίσης και τις τιμές των μετρικών f1_micro και f1_macro."
      ]
    },
    {
      "cell_type": "code",
      "metadata": {
        "id": "hqIGCRHS9M5v",
        "outputId": "bbf4ddee-df6e-4ba2-a1f9-ad8fb2f60394",
        "colab": {
          "base_uri": "https://localhost:8080/",
          "height": 153
        }
      },
      "source": [
        "#dummy for stratified\n",
        "\n",
        "dummy_clf = DummyClassifier(strategy=\"stratified\")\n",
        "times_fit[1] = -time.time()\n",
        "dummy_clf.fit(X_train, y_train)\n",
        "times_fit[1] += time.time()\n",
        "print('The confusion matrix of the test set is:')\n",
        "times_pred[1] =-time.time()\n",
        "predvec = dummy_clf.predict(X_test)\n",
        "times_pred[1] += time.time()\n",
        "cm_ds=(confusion_matrix(y_test,predvec))\n",
        "print(cm_ds)\n",
        "print(\"Fit time is \", times_fit[1])\n",
        "print(\"Predict time is \", times_pred[1])\n",
        "f1_ds=(f1_score(y_test,predvec,average='micro'))\n",
        "f2_ds=(f1_score(y_test,predvec,average='macro'))\n",
        "print(\"F1 micro is \", f1_ds)\n",
        "print(\"F1 macro\", f2_ds)\n",
        "dstr_acc = accuracy_score(y_test, predvec)\n",
        "print(\"Accuracy score is \", dstr_acc)"
      ],
      "execution_count": null,
      "outputs": [
        {
          "output_type": "stream",
          "text": [
            "The confusion matrix of the test set is:\n",
            "[[ 4 16]\n",
            " [19 32]]\n",
            "Fit time is  0.0008606910705566406\n",
            "Predict time is  0.0004334449768066406\n",
            "F1 micro is  0.5070422535211268\n",
            "F1 macro 0.41625557904627675\n",
            "Accuracy score is  0.5070422535211268\n"
          ],
          "name": "stdout"
        }
      ]
    },
    {
      "cell_type": "markdown",
      "metadata": {
        "id": "D318v4Kv7V8w"
      },
      "source": [
        "Για κάθε έναν από τους 2 dummy και τους 2 kNN ταξινομητές που προέκυψαν με προεπεξεργασία και εύρεση υπερπαραμέτρων, εκτυπώνουμε τον 2x2 confusion matrix καθώς και τις μετρικές precision, recall και accuracy που προκύπτουν από αυτόν.</br>\n",
        "\n",
        "Οι τιμές που προκύπτουν για το precision είναι 100% για τον 2ο kNN που σημαίνει ότι αν κάποιο radar είναι good τότε το ανιχνεύει πάντα, ενώ κυμαίνονται σε χαμηλότερες τιμές για τους άλλους classifiers. Από την παράμετρο recall συμπεραίνουμε ότι ο Dummy Most-Frequent προβλέπει σωστά μόνο bad, ενώ ο dummy stratified προβλέπει σωστά περισσότερα bad επίσης. Αντίθετα ο kNN χωρίς PCA προβλέπει σωστά περισσότερα good ενώ ο PCA kNN μισά μισά. Το accuracy είναι φυσικά καλύτερο στους kNN και συγκεκριμένα σε αυτόν στον οποίο δεν προηγήθηκε PCA."
      ]
    },
    {
      "cell_type": "code",
      "metadata": {
        "id": "e8rijW46LPX2",
        "outputId": "0bbe5eb6-62a7-435f-f7bd-0f159d7eb33c",
        "colab": {
          "base_uri": "https://localhost:8080/",
          "height": 391
        }
      },
      "source": [
        "el=['Dummy Most-Frequent', 'Dummy Stratified', 'KNN1 w/ PCA', 'KNN w/o PCA']\n",
        "for i, mat in enumerate([cm[0], cm_ds, cm_knn1, cm_knn2]):\n",
        "  true_pos = mat[0][0]\n",
        "  false_pos = mat[1][0]\n",
        "  false_neg = mat[0][1]\n",
        "\n",
        "  precision = true_pos / (true_pos + false_pos)\n",
        "  recall = true_pos / (true_pos + false_neg)\n",
        "  accuracy = np.sum(np.diag(mat) / np.sum(mat))\n",
        "  print(el[i])\n",
        "  print(mat)\n",
        "  print(\"Precision is \", precision, \"Recall is \", recall, \"Accuracy is\", accuracy)\n",
        "  print()\n",
        "  "
      ],
      "execution_count": null,
      "outputs": [
        {
          "output_type": "stream",
          "text": [
            "Dummy Most-Frequent\n",
            "[[ 0 20]\n",
            " [ 0 51]]\n",
            "Precision is  nan Recall is  0.0 Accuracy is 0.7183098591549296\n",
            "\n",
            "Dummy Stratified\n",
            "[[ 4 16]\n",
            " [19 32]]\n",
            "Precision is  0.17391304347826086 Recall is  0.2 Accuracy is 0.5070422535211268\n",
            "\n",
            "KNN1 w/ PCA\n",
            "[[10 10]\n",
            " [ 8 43]]\n",
            "Precision is  0.5555555555555556 Recall is  0.5 Accuracy is 0.7464788732394366\n",
            "\n",
            "KNN w/o PCA\n",
            "[[16  4]\n",
            " [ 0 51]]\n",
            "Precision is  1.0 Recall is  0.8 Accuracy is 0.943661971830986\n",
            "\n"
          ],
          "name": "stdout"
        },
        {
          "output_type": "stream",
          "text": [
            "/usr/local/lib/python3.6/dist-packages/ipykernel_launcher.py:7: RuntimeWarning: invalid value encountered in long_scalars\n",
            "  import sys\n"
          ],
          "name": "stderr"
        }
      ]
    },
    {
      "cell_type": "markdown",
      "metadata": {
        "id": "wzXsNKXj8WET"
      },
      "source": [
        "Για τους ίδιους 4 ταξινομητές εμφανίζουμε στον παρακάτω πίνακα τους χρόνους εκτέλεσης για την εκπαίδευση των δεδομένων στην πρώτη γραμμή και για την πρόβλεψη των δειγμάτων του dataset στη δεύτερη γραμμή. </br>\n",
        "\n",
        "Παρατηρούμε γενικά ότι ο most-frequent dummy έχει τους καλύτερους χρόνους εκτέλεσης όντας ο πιο απλός σε υλοποιήση. Ακολουθεί ο 1-NN ο οποίος έχει καλούς χρόνους χάρη στη μείωση των διαστάσεών του και την προεπεξεργασία των δεδομένων. Με λίγο χειρότερους χρόνους έπεται ο dummy stratified ενώ με διαφορά χειρότερους χρόνους βρίσκεται ο k-NN που έκανε train τα δεδομένα χωρίς pca έχοντας μεγαλύτερο όγκο δεδομένων."
      ]
    },
    {
      "cell_type": "code",
      "metadata": {
        "id": "APdCJl7MU4ca",
        "outputId": "a6a8e63e-ef4e-41af-a293-6eb1d32b3498",
        "colab": {
          "base_uri": "https://localhost:8080/",
          "height": 68
        }
      },
      "source": [
        "table_data = [['Dummy_most_freq', 'Dummy_Str', '1NN', '1NN w/out PCA'],\n",
        "              times_fit,\n",
        "              times_pred\n",
        "]\n",
        "for row in table_data:\n",
        "    print(\"{: >25} {: >25} {: >25} {: >25}\".format(*row))"
      ],
      "execution_count": null,
      "outputs": [
        {
          "output_type": "stream",
          "text": [
            "          Dummy_most_freq                 Dummy_Str                       1NN             1NN w/out PCA\n",
            "    0.0025224685668945312     0.0008606910705566406     0.0009701251983642578     0.0034973621368408203\n",
            "    0.0002257823944091797     0.0004334449768066406      0.004235982894897461      0.006039619445800781\n"
          ],
          "name": "stdout"
        }
      ]
    },
    {
      "cell_type": "markdown",
      "metadata": {
        "id": "Ap_XhoWD91bf"
      },
      "source": [
        "Εμφανίζουμε τα ζητούμενα bar plots. Οι μπλε στήλες αντιστοιχούν στις μετρικές f1_micro και οι πορτοκαλί στις f1_macro τιμές. Παρατηρούμε αρχικά ότι οι f1_micro τιμές είναι μεγαλύτερες από τις f1_macro τιμές, αφού όπως έχουμε σημειώσει και παραπάνω οι f1_macro παράμετρος υπολογίζεται με βάση το μέσο όρο των scores των διάφορων κλάσεων. Σε ό,τι αφορά τους ταξινομητές προφανώς οι kNN πετυχαίνουν υψηλότερα scores και συγκεκριμένα ο kNN που προέκυψε χωρίς τη χρήση pca. Αυτό συμβαίνει γιατί λαμβάνει περισσότερα δεδομένα υπόψη έχοντας ως κόστος τη διαφορά στο χρόνο εκτέλεσης.\n",
        "Συγκρίνοντας τους 2 dummy, βλέπουμε ότι ο most-frequent έχει καλύτερο συνολικό score f1_micrο αλλά χειρότερο f1_macro που δείχνει ότι δεν έχει καλή απόδοση σε όλες τις κλάσεις."
      ]
    },
    {
      "cell_type": "code",
      "metadata": {
        "id": "M20YS7dzbgVJ",
        "outputId": "4bbd285b-7cae-4076-8924-f9dc602c4317",
        "colab": {
          "base_uri": "https://localhost:8080/",
          "height": 338
        }
      },
      "source": [
        "labels = ['Dummy_Str', 'Dummy_most_freq','1NN', '1NN w/out PCA']\n",
        "f1m.insert(0,f1micros[0])\n",
        "f1M.insert(0,f1macros[0])\n",
        "\n",
        "f1m.insert(0,f1_ds)\n",
        "f1M.insert(0,f2_ds)\n",
        "\n",
        "x = np.arange(len(labels))\n",
        "width = 0.35\n",
        "fig, ax = plt.subplots()\n",
        "rects1 = ax.bar(x - width/2, f1m, width, label='Micro')\n",
        "rects2 = ax.bar(x + width/2, f1M, width, label='Macro')\n",
        "ax.set_ylabel('Scores')\n",
        "ax.set_ylim(top=1)\n",
        "ax.set_xticks(x)\n",
        "ax.set_xticklabels(labels)"
      ],
      "execution_count": null,
      "outputs": [
        {
          "output_type": "execute_result",
          "data": {
            "text/plain": [
              "[Text(0, 0, 'Dummy_Str'),\n",
              " Text(0, 0, 'Dummy_most_freq'),\n",
              " Text(0, 0, '1NN'),\n",
              " Text(0, 0, '1NN w/out PCA')]"
            ]
          },
          "metadata": {
            "tags": []
          },
          "execution_count": 18
        },
        {
          "output_type": "display_data",
          "data": {
            "image/png": "[encoded data removed]",
            "text/plain": [
              "<Figure size 432x288 with 1 Axes>"
            ]
          },
          "metadata": {
            "tags": []
          }
        }
      ]
    },
    {
      "cell_type": "markdown",
      "metadata": {
        "id": "uFo-E424_sgX"
      },
      "source": [
        "Οι παρακάτω ποσοστιαίες μεταβολές έχουν προκύψει με βάση τα αποτελέσματα της συνάρτησης accuracy για τους διάφορους ταξινομητές όπως έχουν υπολογιστεί παραπάνω. Τελικά η προεπεξεργασία των δεδομένων είχε ως αποτέλεσμα τη μείωση της απόδοσης καθώς χάνεται χρήσιμη πληροφορία κατά την εκπαίδευση του μοντέλου. Ωστόσο χωρίς τη χρήση PCA, ο Νearest Neighbor ταξινομητής με υπερπαράμετρο ίση με 1, δηλαδή τη βέλτιστη, είχε ως αποτέλεσμα βελτίωση της τάξης του 8%."
      ]
    },
    {
      "cell_type": "code",
      "metadata": {
        "id": "e6SL5pMhfhtN",
        "outputId": "17e71f3a-894f-4ff0-bc0f-9b441b06cce3",
        "colab": {
          "base_uri": "https://localhost:8080/",
          "height": 51
        }
      },
      "source": [
        "#D4\n",
        "metavoli = [(d_acc-d_acc)/d_acc, (dstr_acc-d_acc)/d_acc, (knn2_acc-knn_acc)/knn_acc, (knn3_acc-knn_acc)/knn_acc]\n",
        "table_data = [['Dummy_most_freq', 'Dummy_Str', '1NN', '1NN w/out PCA'],\n",
        "              metavoli\n",
        "]\n",
        "for row in table_data:\n",
        "    print(\"{: >25} {: >25} {: >25} {: >25}\".format(*row))"
      ],
      "execution_count": null,
      "outputs": [
        {
          "output_type": "stream",
          "text": [
            "          Dummy_most_freq                 Dummy_Str                       1NN             1NN w/out PCA\n",
            "                      0.0       -0.2941176470588236       -0.1451612903225806        0.0806451612903226\n"
          ],
          "name": "stdout"
        }
      ]
    },
    {
      "cell_type": "markdown",
      "metadata": {
        "id": "8drGTcX_Oi-2"
      },
      "source": [
        "5. \n",
        "\n",
        "Ο σχολιασμός των αποτελεσμάτων έγινε παραπάνω στα παραπάνω βήματα καθώς υπολογίζονταν τα επιμέρους μεγέθη. Γενικά βλέπουμε πως ακόμη και σε ένα μικρό dataset με εύκολα διαχωριζόμενα δείγματα, υπάρχει χώρος για βελτίωση των ταξινομητών. Παρόλα αυτά, λόγω του μικρού μεγέθους μπορεί κάποια προεπεξεργασία να προκαλέσει και ζημία στην συνολική επίδοση. "
      ]
    }
  ]
}